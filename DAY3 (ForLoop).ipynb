{
 "cells": [
  {
   "cell_type": "code",
   "execution_count": 1,
   "id": "0b8417cb",
   "metadata": {},
   "outputs": [],
   "source": [
    "l = [1,2,34,5,6,78,9,10]"
   ]
  },
  {
   "cell_type": "code",
   "execution_count": 3,
   "id": "0ce1cb3a",
   "metadata": {},
   "outputs": [
    {
     "name": "stdout",
     "output_type": "stream",
     "text": [
      "2 <class 'int'>\n",
      "3 <class 'int'>\n",
      "35 <class 'int'>\n",
      "6 <class 'int'>\n",
      "7 <class 'int'>\n",
      "79 <class 'int'>\n",
      "10 <class 'int'>\n",
      "11 <class 'int'>\n"
     ]
    }
   ],
   "source": [
    "l1 = []\n",
    "for i in l:\n",
    "    print(i+1, type(i))\n",
    "    l1.append(i+1)\n",
    "    \n",
    "    "
   ]
  },
  {
   "cell_type": "code",
   "execution_count": 4,
   "id": "c11f6d42",
   "metadata": {},
   "outputs": [
    {
     "data": {
      "text/plain": [
       "[2, 3, 35, 6, 7, 79, 10, 11]"
      ]
     },
     "execution_count": 4,
     "metadata": {},
     "output_type": "execute_result"
    }
   ],
   "source": [
    "l1\n"
   ]
  },
  {
   "cell_type": "code",
   "execution_count": 5,
   "id": "b2ebfe9b",
   "metadata": {},
   "outputs": [],
   "source": [
    "l2 = ['harshit','data','sharma','science','pwskills']"
   ]
  },
  {
   "cell_type": "code",
   "execution_count": 6,
   "id": "bd071538",
   "metadata": {},
   "outputs": [
    {
     "name": "stdout",
     "output_type": "stream",
     "text": [
      "harshit\n",
      "data\n",
      "sharma\n",
      "science\n",
      "pwskills\n"
     ]
    }
   ],
   "source": [
    "for i in l2:\n",
    "    print(i)"
   ]
  },
  {
   "cell_type": "code",
   "execution_count": 7,
   "id": "4be6da0b",
   "metadata": {},
   "outputs": [
    {
     "data": {
      "text/plain": [
       "['harshit', 'data', 'sharma', 'science', 'pwskills']"
      ]
     },
     "execution_count": 7,
     "metadata": {},
     "output_type": "execute_result"
    }
   ],
   "source": [
    "l2"
   ]
  },
  {
   "cell_type": "code",
   "execution_count": 9,
   "id": "7890c56d",
   "metadata": {},
   "outputs": [
    {
     "name": "stdout",
     "output_type": "stream",
     "text": [
      "harshit\n",
      "data\n",
      "sharma\n",
      "science\n",
      "pwskills\n",
      "if for loop is able to complete itself then only else will execute\n"
     ]
    }
   ],
   "source": [
    "for i in l2:\n",
    "    print(i)\n",
    "else:\n",
    "    print('if for loop is able to complete itself then only else will execute')"
   ]
  },
  {
   "cell_type": "code",
   "execution_count": 12,
   "id": "6c09d5c2",
   "metadata": {},
   "outputs": [
    {
     "name": "stdout",
     "output_type": "stream",
     "text": [
      "harshit\n",
      "data\n"
     ]
    }
   ],
   "source": [
    "for i in l2:\n",
    "    if i == 'sharma':\n",
    "        break\n",
    "    print(i)"
   ]
  },
  {
   "cell_type": "code",
   "execution_count": 14,
   "id": "08692f4e",
   "metadata": {},
   "outputs": [
    {
     "name": "stdout",
     "output_type": "stream",
     "text": [
      "harshit\n",
      "data\n"
     ]
    }
   ],
   "source": [
    "for i in l2:\n",
    "    if i=='sharma':\n",
    "        break\n",
    "    print(i)\n",
    "else:\n",
    "    print('because of break else will not be executed')"
   ]
  },
  {
   "cell_type": "code",
   "execution_count": 16,
   "id": "a52deb7f",
   "metadata": {},
   "outputs": [
    {
     "name": "stdout",
     "output_type": "stream",
     "text": [
      "harshit\n",
      "data\n",
      "science\n",
      "pwskills\n"
     ]
    }
   ],
   "source": [
    "for i in l2:\n",
    "    if i == 'sharma':\n",
    "        continue\n",
    "    print(i)"
   ]
  },
  {
   "cell_type": "code",
   "execution_count": 17,
   "id": "1019b1f5",
   "metadata": {},
   "outputs": [
    {
     "name": "stdout",
     "output_type": "stream",
     "text": [
      "harshit\n",
      "data\n",
      "science\n",
      "pwskills\n",
      "this is it\n"
     ]
    }
   ],
   "source": [
    "for i in l2:\n",
    "    if i == 'sharma':\n",
    "        continue\n",
    "    print(i)\n",
    "else:\n",
    "    print('this is it')"
   ]
  },
  {
   "cell_type": "code",
   "execution_count": 18,
   "id": "27d28d16",
   "metadata": {},
   "outputs": [
    {
     "data": {
      "text/plain": [
       "range(0, 5)"
      ]
     },
     "execution_count": 18,
     "metadata": {},
     "output_type": "execute_result"
    }
   ],
   "source": [
    "range(5)"
   ]
  },
  {
   "cell_type": "code",
   "execution_count": 19,
   "id": "f4742b1d",
   "metadata": {},
   "outputs": [
    {
     "data": {
      "text/plain": [
       "[0, 1, 2, 3, 4]"
      ]
     },
     "execution_count": 19,
     "metadata": {},
     "output_type": "execute_result"
    }
   ],
   "source": [
    "list(range(5))"
   ]
  },
  {
   "cell_type": "code",
   "execution_count": 21,
   "id": "77558253",
   "metadata": {},
   "outputs": [
    {
     "data": {
      "text/plain": [
       "[0, 2, 4, 6, 8, 10, 12, 14, 16, 18]"
      ]
     },
     "execution_count": 21,
     "metadata": {},
     "output_type": "execute_result"
    }
   ],
   "source": [
    "list(range(0,20,2))"
   ]
  },
  {
   "cell_type": "code",
   "execution_count": 22,
   "id": "4d3a48eb",
   "metadata": {},
   "outputs": [
    {
     "data": {
      "text/plain": [
       "[-1, 1, 3, 5, 7, 9]"
      ]
     },
     "execution_count": 22,
     "metadata": {},
     "output_type": "execute_result"
    }
   ],
   "source": [
    "list(range(-1,10,2))"
   ]
  },
  {
   "cell_type": "code",
   "execution_count": 23,
   "id": "9316f5a9",
   "metadata": {},
   "outputs": [
    {
     "data": {
      "text/plain": [
       "['harshit', 'data', 'sharma', 'science', 'pwskills']"
      ]
     },
     "execution_count": 23,
     "metadata": {},
     "output_type": "execute_result"
    }
   ],
   "source": [
    "l2"
   ]
  },
  {
   "cell_type": "code",
   "execution_count": 28,
   "id": "d85d4e01",
   "metadata": {},
   "outputs": [
    {
     "name": "stdout",
     "output_type": "stream",
     "text": [
      "harshit\n",
      "data\n",
      "sharma\n",
      "science\n",
      "pwskills\n"
     ]
    }
   ],
   "source": [
    "for i in range(len(l2)):\n",
    "    print(l2[i])"
   ]
  },
  {
   "cell_type": "code",
   "execution_count": 25,
   "id": "54dcf6e5",
   "metadata": {},
   "outputs": [
    {
     "data": {
      "text/plain": [
       "[0, 1, 2, 3, 4]"
      ]
     },
     "execution_count": 25,
     "metadata": {},
     "output_type": "execute_result"
    }
   ],
   "source": [
    "list(range(len(l2)))"
   ]
  },
  {
   "cell_type": "code",
   "execution_count": 38,
   "id": "4b68fb60",
   "metadata": {},
   "outputs": [
    {
     "name": "stdout",
     "output_type": "stream",
     "text": [
      "pwskills\n",
      "science\n",
      "sharma\n",
      "data\n",
      "harshit\n"
     ]
    }
   ],
   "source": [
    "for i in list(range(len(l2)-1,-1,-1)):\n",
    "    print(l2[i])"
   ]
  },
  {
   "cell_type": "code",
   "execution_count": 36,
   "id": "b91f61a4",
   "metadata": {},
   "outputs": [
    {
     "data": {
      "text/plain": [
       "[4, 3, 2, 1, 0]"
      ]
     },
     "execution_count": 36,
     "metadata": {},
     "output_type": "execute_result"
    }
   ],
   "source": [
    "list(range(len(l2)-1,-1,-1))"
   ]
  },
  {
   "cell_type": "code",
   "execution_count": 39,
   "id": "dcbbf7b9",
   "metadata": {},
   "outputs": [],
   "source": [
    "l3 = [2,3466,789,432,678,421,456,789,5321,234,7,89,42114,67890,4321,4567,9875,223]"
   ]
  },
  {
   "cell_type": "code",
   "execution_count": 42,
   "id": "4b9f12a6",
   "metadata": {},
   "outputs": [
    {
     "name": "stdout",
     "output_type": "stream",
     "text": [
      "2\n",
      "789\n",
      "678\n",
      "456\n",
      "5321\n",
      "7\n",
      "42114\n",
      "4321\n",
      "9875\n"
     ]
    }
   ],
   "source": [
    "for i in range(0,len(l3),2):\n",
    "    print(l3[i])"
   ]
  },
  {
   "cell_type": "code",
   "execution_count": 40,
   "id": "2c0fe102",
   "metadata": {},
   "outputs": [
    {
     "data": {
      "text/plain": [
       "[0, 2, 4, 6, 8, 10, 12, 14, 16]"
      ]
     },
     "execution_count": 40,
     "metadata": {},
     "output_type": "execute_result"
    }
   ],
   "source": [
    "list(range(0,len(l3),2))"
   ]
  },
  {
   "cell_type": "code",
   "execution_count": 43,
   "id": "d8193f7e",
   "metadata": {},
   "outputs": [
    {
     "data": {
      "text/plain": [
       "18"
      ]
     },
     "execution_count": 43,
     "metadata": {},
     "output_type": "execute_result"
    }
   ],
   "source": [
    "len(l3)"
   ]
  },
  {
   "cell_type": "code",
   "execution_count": 44,
   "id": "89878331",
   "metadata": {},
   "outputs": [],
   "source": [
    "l = [ 2,34,568,9,3,46,78,32,34545,321,456,224,7678,3234,6789,7283]"
   ]
  },
  {
   "cell_type": "code",
   "execution_count": 45,
   "id": "51697865",
   "metadata": {},
   "outputs": [
    {
     "data": {
      "text/plain": [
       "61302"
      ]
     },
     "execution_count": 45,
     "metadata": {},
     "output_type": "execute_result"
    }
   ],
   "source": [
    "sum(l)"
   ]
  },
  {
   "cell_type": "code",
   "execution_count": 46,
   "id": "d1f4b47d",
   "metadata": {},
   "outputs": [],
   "source": [
    "result = 0\n",
    "for i in l:\n",
    "    result = result + i"
   ]
  },
  {
   "cell_type": "code",
   "execution_count": 47,
   "id": "02ba1fce",
   "metadata": {},
   "outputs": [
    {
     "name": "stdout",
     "output_type": "stream",
     "text": [
      "61302\n"
     ]
    }
   ],
   "source": [
    "print(result)"
   ]
  }
 ],
 "metadata": {
  "kernelspec": {
   "display_name": "Python 3 (ipykernel)",
   "language": "python",
   "name": "python3"
  },
  "language_info": {
   "codemirror_mode": {
    "name": "ipython",
    "version": 3
   },
   "file_extension": ".py",
   "mimetype": "text/x-python",
   "name": "python",
   "nbconvert_exporter": "python",
   "pygments_lexer": "ipython3",
   "version": "3.9.12"
  }
 },
 "nbformat": 4,
 "nbformat_minor": 5
}
