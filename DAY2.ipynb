{
 "cells": [
  {
   "cell_type": "code",
   "execution_count": 1,
   "id": "427cc583",
   "metadata": {},
   "outputs": [],
   "source": [
    "d = {}"
   ]
  },
  {
   "cell_type": "code",
   "execution_count": 2,
   "id": "42e694b3",
   "metadata": {},
   "outputs": [
    {
     "data": {
      "text/plain": [
       "dict"
      ]
     },
     "execution_count": 2,
     "metadata": {},
     "output_type": "execute_result"
    }
   ],
   "source": [
    "type(d)"
   ]
  },
  {
   "cell_type": "code",
   "execution_count": 3,
   "id": "9c32ba94",
   "metadata": {},
   "outputs": [],
   "source": [
    "d1 = {'Key': 'Value'}"
   ]
  },
  {
   "cell_type": "code",
   "execution_count": 4,
   "id": "4ae770bd",
   "metadata": {},
   "outputs": [
    {
     "data": {
      "text/plain": [
       "{'Key': 'Value'}"
      ]
     },
     "execution_count": 4,
     "metadata": {},
     "output_type": "execute_result"
    }
   ],
   "source": [
    "d1"
   ]
  },
  {
   "cell_type": "code",
   "execution_count": 5,
   "id": "94de5067",
   "metadata": {},
   "outputs": [],
   "source": [
    "d2 = {'Name':'Harshit', 'email':'harshit.sharma.dce@gmail.com','number':9367627329}"
   ]
  },
  {
   "cell_type": "code",
   "execution_count": 6,
   "id": "fe8f7d75",
   "metadata": {},
   "outputs": [
    {
     "ename": "NameError",
     "evalue": "name '_w' is not defined",
     "output_type": "error",
     "traceback": [
      "\u001b[1;31m---------------------------------------------------------------------------\u001b[0m",
      "\u001b[1;31mNameError\u001b[0m                                 Traceback (most recent call last)",
      "Cell \u001b[1;32mIn[6], line 1\u001b[0m\n\u001b[1;32m----> 1\u001b[0m d3 \u001b[38;5;241m=\u001b[39m {\u001b[38;5;241m234\u001b[39m : \u001b[38;5;124m'\u001b[39m\u001b[38;5;124mHarshit\u001b[39m\u001b[38;5;124m'\u001b[39m,\u001b[43m_w\u001b[49m:\u001b[38;5;241m3432\u001b[39m}\n",
      "\u001b[1;31mNameError\u001b[0m: name '_w' is not defined"
     ]
    }
   ],
   "source": [
    "d3 = {234 : 'Harshit',_w:3432}"
   ]
  },
  {
   "cell_type": "code",
   "execution_count": 7,
   "id": "2bb12001",
   "metadata": {},
   "outputs": [
    {
     "data": {
      "text/plain": [
       "{'Name': 'Harshit',\n",
       " 'email': 'harshit.sharma.dce@gmail.com',\n",
       " 'number': 9367627329}"
      ]
     },
     "execution_count": 7,
     "metadata": {},
     "output_type": "execute_result"
    }
   ],
   "source": [
    "d2"
   ]
  },
  {
   "cell_type": "code",
   "execution_count": 8,
   "id": "89f1b51b",
   "metadata": {},
   "outputs": [],
   "source": [
    "d4 = {222:True, 'NO':9293}"
   ]
  },
  {
   "cell_type": "code",
   "execution_count": 9,
   "id": "91456285",
   "metadata": {},
   "outputs": [
    {
     "data": {
      "text/plain": [
       "{222: True, 'NO': 9293}"
      ]
     },
     "execution_count": 9,
     "metadata": {},
     "output_type": "execute_result"
    }
   ],
   "source": [
    "d4"
   ]
  },
  {
   "cell_type": "code",
   "execution_count": 10,
   "id": "89cebaf3",
   "metadata": {},
   "outputs": [
    {
     "data": {
      "text/plain": [
       "'Harshit'"
      ]
     },
     "execution_count": 10,
     "metadata": {},
     "output_type": "execute_result"
    }
   ],
   "source": [
    "d2['Name']"
   ]
  },
  {
   "cell_type": "code",
   "execution_count": 11,
   "id": "5a4dfbf3",
   "metadata": {},
   "outputs": [
    {
     "ename": "KeyError",
     "evalue": "1",
     "output_type": "error",
     "traceback": [
      "\u001b[1;31m---------------------------------------------------------------------------\u001b[0m",
      "\u001b[1;31mKeyError\u001b[0m                                  Traceback (most recent call last)",
      "Cell \u001b[1;32mIn[11], line 1\u001b[0m\n\u001b[1;32m----> 1\u001b[0m \u001b[43md4\u001b[49m\u001b[43m[\u001b[49m\u001b[38;5;241;43m1\u001b[39;49m\u001b[43m]\u001b[49m\n",
      "\u001b[1;31mKeyError\u001b[0m: 1"
     ]
    }
   ],
   "source": [
    "d4[1]"
   ]
  },
  {
   "cell_type": "code",
   "execution_count": 12,
   "id": "e03703cb",
   "metadata": {},
   "outputs": [],
   "source": [
    "d5 ={'Name':'Harshit','Mail_id':'har','Name':'Harshit Sharma'}"
   ]
  },
  {
   "cell_type": "code",
   "execution_count": 13,
   "id": "b8392787",
   "metadata": {},
   "outputs": [
    {
     "data": {
      "text/plain": [
       "'Harshit Sharma'"
      ]
     },
     "execution_count": 13,
     "metadata": {},
     "output_type": "execute_result"
    }
   ],
   "source": [
    "d5['Name']"
   ]
  },
  {
   "cell_type": "code",
   "execution_count": 14,
   "id": "2299e266",
   "metadata": {},
   "outputs": [],
   "source": [
    "d6 = {'company':'Pwskills','Course':['Web Dev','data science']}"
   ]
  },
  {
   "cell_type": "code",
   "execution_count": 15,
   "id": "01255973",
   "metadata": {},
   "outputs": [
    {
     "data": {
      "text/plain": [
       "'data science'"
      ]
     },
     "execution_count": 15,
     "metadata": {},
     "output_type": "execute_result"
    }
   ],
   "source": [
    "d6['Course'][1]"
   ]
  },
  {
   "cell_type": "code",
   "execution_count": 16,
   "id": "9f85001d",
   "metadata": {},
   "outputs": [],
   "source": [
    "d7 = {'number':[12,34,21,34],'Assignments':(21,34,2,1,4),'Launch Date':{23,2344,23},'class time':{'web dev':8,'data science':43}}"
   ]
  },
  {
   "cell_type": "code",
   "execution_count": 17,
   "id": "5c1218f1",
   "metadata": {},
   "outputs": [
    {
     "data": {
      "text/plain": [
       "{'number': [12, 34, 21, 34],\n",
       " 'Assignments': (21, 34, 2, 1, 4),\n",
       " 'Launch Date': {23, 2344},\n",
       " 'class time': {'web dev': 8, 'data science': 43}}"
      ]
     },
     "execution_count": 17,
     "metadata": {},
     "output_type": "execute_result"
    }
   ],
   "source": [
    "d7"
   ]
  },
  {
   "cell_type": "code",
   "execution_count": 18,
   "id": "1f711459",
   "metadata": {},
   "outputs": [
    {
     "data": {
      "text/plain": [
       "43"
      ]
     },
     "execution_count": 18,
     "metadata": {},
     "output_type": "execute_result"
    }
   ],
   "source": [
    "d7['class time']['data science']"
   ]
  },
  {
   "cell_type": "code",
   "execution_count": 19,
   "id": "402fb8d2",
   "metadata": {},
   "outputs": [
    {
     "data": {
      "text/plain": [
       "{'number': [12, 34, 21, 34],\n",
       " 'Assignments': (21, 34, 2, 1, 4),\n",
       " 'Launch Date': {23, 2344},\n",
       " 'class time': {'web dev': 8, 'data science': 43}}"
      ]
     },
     "execution_count": 19,
     "metadata": {},
     "output_type": "execute_result"
    }
   ],
   "source": [
    "d7"
   ]
  },
  {
   "cell_type": "code",
   "execution_count": 20,
   "id": "5433d37f",
   "metadata": {},
   "outputs": [],
   "source": [
    "d7['mentor'] = ['Harshit','Parth','Sudhanshu']"
   ]
  },
  {
   "cell_type": "code",
   "execution_count": 21,
   "id": "c4a51cd7",
   "metadata": {},
   "outputs": [
    {
     "data": {
      "text/plain": [
       "{'number': [12, 34, 21, 34],\n",
       " 'Assignments': (21, 34, 2, 1, 4),\n",
       " 'Launch Date': {23, 2344},\n",
       " 'class time': {'web dev': 8, 'data science': 43},\n",
       " 'mentor': ['Harshit', 'Parth', 'Sudhanshu']}"
      ]
     },
     "execution_count": 21,
     "metadata": {},
     "output_type": "execute_result"
    }
   ],
   "source": [
    "d7"
   ]
  },
  {
   "cell_type": "code",
   "execution_count": 22,
   "id": "21aa56dc",
   "metadata": {},
   "outputs": [],
   "source": [
    "del d7['number']"
   ]
  },
  {
   "cell_type": "code",
   "execution_count": 23,
   "id": "e8627c94",
   "metadata": {},
   "outputs": [
    {
     "data": {
      "text/plain": [
       "{'Assignments': (21, 34, 2, 1, 4),\n",
       " 'Launch Date': {23, 2344},\n",
       " 'class time': {'web dev': 8, 'data science': 43},\n",
       " 'mentor': ['Harshit', 'Parth', 'Sudhanshu']}"
      ]
     },
     "execution_count": 23,
     "metadata": {},
     "output_type": "execute_result"
    }
   ],
   "source": [
    "d7"
   ]
  },
  {
   "cell_type": "code",
   "execution_count": 24,
   "id": "727ec64f",
   "metadata": {},
   "outputs": [
    {
     "data": {
      "text/plain": [
       "['Assignments', 'Launch Date', 'class time', 'mentor']"
      ]
     },
     "execution_count": 24,
     "metadata": {},
     "output_type": "execute_result"
    }
   ],
   "source": [
    "list(d7.keys())"
   ]
  },
  {
   "cell_type": "code",
   "execution_count": 25,
   "id": "a9b74ec9",
   "metadata": {},
   "outputs": [
    {
     "data": {
      "text/plain": [
       "dict_values([(21, 34, 2, 1, 4), {2344, 23}, {'web dev': 8, 'data science': 43}, ['Harshit', 'Parth', 'Sudhanshu']])"
      ]
     },
     "execution_count": 25,
     "metadata": {},
     "output_type": "execute_result"
    }
   ],
   "source": [
    "d7.values()"
   ]
  },
  {
   "cell_type": "code",
   "execution_count": 26,
   "id": "05ca0e41",
   "metadata": {},
   "outputs": [
    {
     "data": {
      "text/plain": [
       "[('Assignments', (21, 34, 2, 1, 4)),\n",
       " ('Launch Date', {23, 2344}),\n",
       " ('class time', {'web dev': 8, 'data science': 43}),\n",
       " ('mentor', ['Harshit', 'Parth', 'Sudhanshu'])]"
      ]
     },
     "execution_count": 26,
     "metadata": {},
     "output_type": "execute_result"
    }
   ],
   "source": [
    "list(d7.items())"
   ]
  },
  {
   "cell_type": "code",
   "execution_count": 27,
   "id": "20159726",
   "metadata": {},
   "outputs": [
    {
     "data": {
      "text/plain": [
       "(21, 34, 2, 1, 4)"
      ]
     },
     "execution_count": 27,
     "metadata": {},
     "output_type": "execute_result"
    }
   ],
   "source": [
    "d7.pop('Assignments')"
   ]
  },
  {
   "cell_type": "code",
   "execution_count": 28,
   "id": "5ee2259d",
   "metadata": {},
   "outputs": [
    {
     "data": {
      "text/plain": [
       "{'Launch Date': {23, 2344},\n",
       " 'class time': {'web dev': 8, 'data science': 43},\n",
       " 'mentor': ['Harshit', 'Parth', 'Sudhanshu']}"
      ]
     },
     "execution_count": 28,
     "metadata": {},
     "output_type": "execute_result"
    }
   ],
   "source": [
    "d7"
   ]
  },
  {
   "cell_type": "code",
   "execution_count": 29,
   "id": "768367d8",
   "metadata": {},
   "outputs": [
    {
     "ename": "TypeError",
     "evalue": "pop expected at least 1 argument, got 0",
     "output_type": "error",
     "traceback": [
      "\u001b[1;31m---------------------------------------------------------------------------\u001b[0m",
      "\u001b[1;31mTypeError\u001b[0m                                 Traceback (most recent call last)",
      "Cell \u001b[1;32mIn[29], line 1\u001b[0m\n\u001b[1;32m----> 1\u001b[0m \u001b[43md7\u001b[49m\u001b[38;5;241;43m.\u001b[39;49m\u001b[43mpop\u001b[49m\u001b[43m(\u001b[49m\u001b[43m)\u001b[49m\n",
      "\u001b[1;31mTypeError\u001b[0m: pop expected at least 1 argument, got 0"
     ]
    }
   ],
   "source": [
    "d7.pop()"
   ]
  },
  {
   "cell_type": "code",
   "execution_count": 30,
   "id": "31d5f97a",
   "metadata": {},
   "outputs": [
    {
     "name": "stdout",
     "output_type": "stream",
     "text": [
      "Enter your marks 22\n",
      "You will be part of A3 batch\n"
     ]
    }
   ],
   "source": [
    "marks = int(input('Enter your marks '))\n",
    "if marks >= 80:\n",
    "    print('You will be part of A0 batch')\n",
    "elif marks >= 60 and marks<80:\n",
    "    print('You will be part of A1 batch')\n",
    "elif marks >=40 and marks < 60:\n",
    "    print('You will be part of A2 batch')\n",
    "else:\n",
    "    print('You will be part of A3 batch')"
   ]
  },
  {
   "cell_type": "code",
   "execution_count": 31,
   "id": "d6f8a2b6",
   "metadata": {},
   "outputs": [
    {
     "name": "stdout",
     "output_type": "stream",
     "text": [
      "what is its price 22\n",
      "i will purchase \n"
     ]
    }
   ],
   "source": [
    "price = int(input('what is its price '))\n",
    "if price >= 1000:\n",
    "    print('I will not purchase ')\n",
    "else:\n",
    "    print('i will purchase ')"
   ]
  },
  {
   "cell_type": "code",
   "execution_count": 32,
   "id": "4c9a5f15",
   "metadata": {},
   "outputs": [
    {
     "name": "stdout",
     "output_type": "stream",
     "text": [
      "what is its price 22\n"
     ]
    }
   ],
   "source": [
    "price = int(input('what is its price '))\n",
    "if price >= 1000:\n",
    "    print('I will not purchase ')"
   ]
  },
  {
   "cell_type": "code",
   "execution_count": 33,
   "id": "ccbf6a5d",
   "metadata": {},
   "outputs": [
    {
     "name": "stdout",
     "output_type": "stream",
     "text": [
      "What is its price22\n",
      "Pls give me \n"
     ]
    }
   ],
   "source": [
    "price = int(input('What is its price'))\n",
    "if price >=10000:\n",
    "    print('give me some discount')\n",
    "    if price >=20000:\n",
    "        print('fuck off ')\n",
    "    elif price >=15000:\n",
    "        print('Please give me some discount')\n",
    "    else:\n",
    "        print('Pls give me ')\n",
    "else:\n",
    "    print('Pls give me ')"
   ]
  },
  {
   "cell_type": "code",
   "execution_count": 34,
   "id": "e1fea3e1",
   "metadata": {},
   "outputs": [],
   "source": [
    " l = [11,23,42,4,57,89,442,57,9,3124,8643,689,421,23456]"
   ]
  },
  {
   "cell_type": "code",
   "execution_count": 35,
   "id": "768c8ae5",
   "metadata": {},
   "outputs": [],
   "source": [
    "l[0] = l[0] + 1"
   ]
  },
  {
   "cell_type": "code",
   "execution_count": 36,
   "id": "6cbf6c65",
   "metadata": {},
   "outputs": [
    {
     "data": {
      "text/plain": [
       "[12, 23, 42, 4, 57, 89, 442, 57, 9, 3124, 8643, 689, 421, 23456]"
      ]
     },
     "execution_count": 36,
     "metadata": {},
     "output_type": "execute_result"
    }
   ],
   "source": [
    "l"
   ]
  },
  {
   "cell_type": "code",
   "execution_count": 37,
   "id": "362358ad",
   "metadata": {},
   "outputs": [
    {
     "name": "stdout",
     "output_type": "stream",
     "text": [
      "12\n",
      "23\n",
      "42\n",
      "4\n",
      "57\n",
      "89\n",
      "442\n",
      "57\n",
      "9\n",
      "3124\n",
      "8643\n",
      "689\n",
      "421\n",
      "23456\n"
     ]
    }
   ],
   "source": [
    "for i in l:\n",
    "    print(i)"
   ]
  },
  {
   "cell_type": "code",
   "execution_count": 38,
   "id": "64be02c6",
   "metadata": {},
   "outputs": [],
   "source": [
    "l1 = []\n",
    "\n",
    "   "
   ]
  },
  {
   "cell_type": "code",
   "execution_count": 39,
   "id": "e5fabe48",
   "metadata": {},
   "outputs": [
    {
     "name": "stdout",
     "output_type": "stream",
     "text": [
      "13\n",
      "24\n",
      "43\n",
      "5\n",
      "58\n",
      "90\n",
      "443\n",
      "58\n",
      "10\n",
      "3125\n",
      "8644\n",
      "690\n",
      "422\n",
      "23457\n"
     ]
    }
   ],
   "source": [
    "for i in l:\n",
    "    print(i+1)\n",
    "    l1.append(i+1)\n",
    "    \n"
   ]
  },
  {
   "cell_type": "code",
   "execution_count": 40,
   "id": "38322cea",
   "metadata": {},
   "outputs": [
    {
     "data": {
      "text/plain": [
       "[13, 24, 43, 5, 58, 90, 443, 58, 10, 3125, 8644, 690, 422, 23457]"
      ]
     },
     "execution_count": 40,
     "metadata": {},
     "output_type": "execute_result"
    }
   ],
   "source": [
    "l1"
   ]
  },
  {
   "cell_type": "code",
   "execution_count": 41,
   "id": "92397a74",
   "metadata": {},
   "outputs": [],
   "source": [
    "l = ['harshit', 'sharma','course','data science','pwskills']"
   ]
  },
  {
   "cell_type": "code",
   "execution_count": 42,
   "id": "777bd102",
   "metadata": {},
   "outputs": [],
   "source": [
    "l2 = []\n",
    "for i in l:\n",
    "    l2.append(i.upper())\n",
    "    "
   ]
  },
  {
   "cell_type": "code",
   "execution_count": 43,
   "id": "76d32eb8",
   "metadata": {},
   "outputs": [
    {
     "data": {
      "text/plain": [
       "['HARSHIT', 'SHARMA', 'COURSE', 'DATA SCIENCE', 'PWSKILLS']"
      ]
     },
     "execution_count": 43,
     "metadata": {},
     "output_type": "execute_result"
    }
   ],
   "source": [
    "l2"
   ]
  },
  {
   "cell_type": "code",
   "execution_count": 53,
   "id": "5848942c",
   "metadata": {},
   "outputs": [],
   "source": [
    "l3 = [2,354,32,1,3,'harshit',23,34,56,'course','data',22,'science']"
   ]
  },
  {
   "cell_type": "code",
   "execution_count": 54,
   "id": "008b1afb",
   "metadata": {},
   "outputs": [],
   "source": [
    "l1 = []\n",
    "l2 = []\n",
    "for i in l3:\n",
    "    if type(i) == int:\n",
    "        l2.append(i)\n",
    "    else:\n",
    "        l1.append(i)"
   ]
  },
  {
   "cell_type": "code",
   "execution_count": 55,
   "id": "aece44ef",
   "metadata": {},
   "outputs": [
    {
     "data": {
      "text/plain": [
       "[2, 354, 32, 1, 3, 23, 34, 56, 22]"
      ]
     },
     "execution_count": 55,
     "metadata": {},
     "output_type": "execute_result"
    }
   ],
   "source": [
    "l2"
   ]
  },
  {
   "cell_type": "code",
   "execution_count": 56,
   "id": "b823e442",
   "metadata": {},
   "outputs": [
    {
     "data": {
      "text/plain": [
       "['harshit', 'course', 'data', 'science']"
      ]
     },
     "execution_count": 56,
     "metadata": {},
     "output_type": "execute_result"
    }
   ],
   "source": [
    "l1"
   ]
  }
 ],
 "metadata": {
  "kernelspec": {
   "display_name": "Python 3 (ipykernel)",
   "language": "python",
   "name": "python3"
  },
  "language_info": {
   "codemirror_mode": {
    "name": "ipython",
    "version": 3
   },
   "file_extension": ".py",
   "mimetype": "text/x-python",
   "name": "python",
   "nbconvert_exporter": "python",
   "pygments_lexer": "ipython3",
   "version": "3.9.12"
  }
 },
 "nbformat": 4,
 "nbformat_minor": 5
}
