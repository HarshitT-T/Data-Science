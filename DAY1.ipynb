{
 "cells": [
  {
   "cell_type": "code",
   "execution_count": 6,
   "id": "77d2d447",
   "metadata": {},
   "outputs": [],
   "source": [
    "l = [1,345,345554,'Harshit',True,5+3j,364.33]"
   ]
  },
  {
   "cell_type": "code",
   "execution_count": 7,
   "id": "024010e7",
   "metadata": {},
   "outputs": [
    {
     "data": {
      "text/plain": [
       "list"
      ]
     },
     "execution_count": 7,
     "metadata": {},
     "output_type": "execute_result"
    }
   ],
   "source": [
    "type(l)"
   ]
  },
  {
   "cell_type": "code",
   "execution_count": 8,
   "id": "4644f0b3",
   "metadata": {},
   "outputs": [
    {
     "data": {
      "text/plain": [
       "364.33"
      ]
     },
     "execution_count": 8,
     "metadata": {},
     "output_type": "execute_result"
    }
   ],
   "source": [
    "l[6]"
   ]
  },
  {
   "cell_type": "code",
   "execution_count": 9,
   "id": "a7a23be5",
   "metadata": {},
   "outputs": [
    {
     "data": {
      "text/plain": [
       "1"
      ]
     },
     "execution_count": 9,
     "metadata": {},
     "output_type": "execute_result"
    }
   ],
   "source": [
    "l[0]"
   ]
  },
  {
   "cell_type": "code",
   "execution_count": 10,
   "id": "ab4ee5d2",
   "metadata": {},
   "outputs": [
    {
     "ename": "IndexError",
     "evalue": "list index out of range",
     "output_type": "error",
     "traceback": [
      "\u001b[1;31m---------------------------------------------------------------------------\u001b[0m",
      "\u001b[1;31mIndexError\u001b[0m                                Traceback (most recent call last)",
      "Cell \u001b[1;32mIn[10], line 1\u001b[0m\n\u001b[1;32m----> 1\u001b[0m \u001b[43ml\u001b[49m\u001b[43m[\u001b[49m\u001b[38;5;241;43m90\u001b[39;49m\u001b[43m]\u001b[49m\n",
      "\u001b[1;31mIndexError\u001b[0m: list index out of range"
     ]
    }
   ],
   "source": [
    "l[90]"
   ]
  },
  {
   "cell_type": "code",
   "execution_count": 11,
   "id": "a1bec21d",
   "metadata": {},
   "outputs": [
    {
     "data": {
      "text/plain": [
       "[1, 345, 345554]"
      ]
     },
     "execution_count": 11,
     "metadata": {},
     "output_type": "execute_result"
    }
   ],
   "source": [
    "l[:3]"
   ]
  },
  {
   "cell_type": "code",
   "execution_count": 12,
   "id": "7b3b21e6",
   "metadata": {},
   "outputs": [
    {
     "data": {
      "text/plain": [
       "364.33"
      ]
     },
     "execution_count": 12,
     "metadata": {},
     "output_type": "execute_result"
    }
   ],
   "source": [
    "l[-1]"
   ]
  },
  {
   "cell_type": "code",
   "execution_count": 13,
   "id": "a6442cd3",
   "metadata": {},
   "outputs": [
    {
     "data": {
      "text/plain": [
       "[1, 345, 345554, 'Harshit', True]"
      ]
     },
     "execution_count": 13,
     "metadata": {},
     "output_type": "execute_result"
    }
   ],
   "source": [
    "l[:-2]"
   ]
  },
  {
   "cell_type": "code",
   "execution_count": 14,
   "id": "4268e0ce",
   "metadata": {},
   "outputs": [
    {
     "data": {
      "text/plain": [
       "[364.33, True, 345554, 1]"
      ]
     },
     "execution_count": 14,
     "metadata": {},
     "output_type": "execute_result"
    }
   ],
   "source": [
    "l[::-2]"
   ]
  },
  {
   "cell_type": "code",
   "execution_count": 15,
   "id": "cb4577ad",
   "metadata": {},
   "outputs": [
    {
     "data": {
      "text/plain": [
       "[345554, 'Harshit', True, (5+3j), 364.33]"
      ]
     },
     "execution_count": 15,
     "metadata": {},
     "output_type": "execute_result"
    }
   ],
   "source": [
    "l[2::]"
   ]
  },
  {
   "cell_type": "code",
   "execution_count": 16,
   "id": "da2e1a8b",
   "metadata": {},
   "outputs": [
    {
     "data": {
      "text/plain": [
       "[1, 345554, True, 364.33]"
      ]
     },
     "execution_count": 16,
     "metadata": {},
     "output_type": "execute_result"
    }
   ],
   "source": [
    "l[::2]"
   ]
  },
  {
   "cell_type": "code",
   "execution_count": 17,
   "id": "f4040f14",
   "metadata": {},
   "outputs": [],
   "source": [
    "s = 'Sharma'"
   ]
  },
  {
   "cell_type": "code",
   "execution_count": 18,
   "id": "57dbb33e",
   "metadata": {},
   "outputs": [
    {
     "ename": "TypeError",
     "evalue": "can only concatenate list (not \"str\") to list",
     "output_type": "error",
     "traceback": [
      "\u001b[1;31m---------------------------------------------------------------------------\u001b[0m",
      "\u001b[1;31mTypeError\u001b[0m                                 Traceback (most recent call last)",
      "Cell \u001b[1;32mIn[18], line 1\u001b[0m\n\u001b[1;32m----> 1\u001b[0m \u001b[43ml\u001b[49m\u001b[38;5;241;43m+\u001b[39;49m\u001b[43ms\u001b[49m\n",
      "\u001b[1;31mTypeError\u001b[0m: can only concatenate list (not \"str\") to list"
     ]
    }
   ],
   "source": [
    "l+s"
   ]
  },
  {
   "cell_type": "code",
   "execution_count": 19,
   "id": "7b1173c0",
   "metadata": {},
   "outputs": [
    {
     "data": {
      "text/plain": [
       "str"
      ]
     },
     "execution_count": 19,
     "metadata": {},
     "output_type": "execute_result"
    }
   ],
   "source": [
    "type(l[3])"
   ]
  },
  {
   "cell_type": "code",
   "execution_count": 20,
   "id": "d86ccf95",
   "metadata": {},
   "outputs": [
    {
     "data": {
      "text/plain": [
       "'Har'"
      ]
     },
     "execution_count": 20,
     "metadata": {},
     "output_type": "execute_result"
    }
   ],
   "source": [
    "l[3][0:3]"
   ]
  },
  {
   "cell_type": "code",
   "execution_count": 21,
   "id": "deeae3cf",
   "metadata": {},
   "outputs": [],
   "source": [
    "x = str(l[4])"
   ]
  },
  {
   "cell_type": "code",
   "execution_count": 22,
   "id": "e1276456",
   "metadata": {},
   "outputs": [
    {
     "data": {
      "text/plain": [
       "'Tr'"
      ]
     },
     "execution_count": 22,
     "metadata": {},
     "output_type": "execute_result"
    }
   ],
   "source": [
    "x[0:2]"
   ]
  },
  {
   "cell_type": "code",
   "execution_count": 23,
   "id": "0b29c744",
   "metadata": {},
   "outputs": [
    {
     "ename": "TypeError",
     "evalue": "can only concatenate list (not \"int\") to list",
     "output_type": "error",
     "traceback": [
      "\u001b[1;31m---------------------------------------------------------------------------\u001b[0m",
      "\u001b[1;31mTypeError\u001b[0m                                 Traceback (most recent call last)",
      "Cell \u001b[1;32mIn[23], line 1\u001b[0m\n\u001b[1;32m----> 1\u001b[0m \u001b[43ml\u001b[49m\u001b[43m \u001b[49m\u001b[38;5;241;43m+\u001b[39;49m\u001b[43m \u001b[49m\u001b[38;5;241;43m5\u001b[39;49m\n",
      "\u001b[1;31mTypeError\u001b[0m: can only concatenate list (not \"int\") to list"
     ]
    }
   ],
   "source": [
    "l + 5"
   ]
  },
  {
   "cell_type": "code",
   "execution_count": 24,
   "id": "f4d0c280",
   "metadata": {},
   "outputs": [],
   "source": [
    "nl = [1,2,3,4]"
   ]
  },
  {
   "cell_type": "code",
   "execution_count": 25,
   "id": "3a870301",
   "metadata": {},
   "outputs": [
    {
     "data": {
      "text/plain": [
       "[1, 345, 345554, 'Harshit', True, (5+3j), 364.33, 1, 2, 3, 4]"
      ]
     },
     "execution_count": 25,
     "metadata": {},
     "output_type": "execute_result"
    }
   ],
   "source": [
    "l+nl"
   ]
  },
  {
   "cell_type": "code",
   "execution_count": 26,
   "id": "68793041",
   "metadata": {},
   "outputs": [
    {
     "data": {
      "text/plain": [
       "[1, 2, 3, 4, 1, 2, 3, 4, 1, 2, 3, 4]"
      ]
     },
     "execution_count": 26,
     "metadata": {},
     "output_type": "execute_result"
    }
   ],
   "source": [
    "nl*3"
   ]
  },
  {
   "cell_type": "code",
   "execution_count": 27,
   "id": "1174c4fa",
   "metadata": {},
   "outputs": [
    {
     "data": {
      "text/plain": [
       "7"
      ]
     },
     "execution_count": 27,
     "metadata": {},
     "output_type": "execute_result"
    }
   ],
   "source": [
    "len(l)"
   ]
  },
  {
   "cell_type": "code",
   "execution_count": 28,
   "id": "70b8fd59",
   "metadata": {},
   "outputs": [],
   "source": [
    "l.append(5)"
   ]
  },
  {
   "cell_type": "code",
   "execution_count": 29,
   "id": "1fb2c32b",
   "metadata": {},
   "outputs": [
    {
     "data": {
      "text/plain": [
       "[1, 345, 345554, 'Harshit', True, (5+3j), 364.33, 5]"
      ]
     },
     "execution_count": 29,
     "metadata": {},
     "output_type": "execute_result"
    }
   ],
   "source": [
    "l"
   ]
  },
  {
   "cell_type": "code",
   "execution_count": 30,
   "id": "e5f3b3b6",
   "metadata": {},
   "outputs": [],
   "source": [
    "l.append(nl)"
   ]
  },
  {
   "cell_type": "code",
   "execution_count": 31,
   "id": "bfb209d0",
   "metadata": {},
   "outputs": [
    {
     "data": {
      "text/plain": [
       "[1, 345, 345554, 'Harshit', True, (5+3j), 364.33, 5, [1, 2, 3, 4]]"
      ]
     },
     "execution_count": 31,
     "metadata": {},
     "output_type": "execute_result"
    }
   ],
   "source": [
    "l"
   ]
  },
  {
   "cell_type": "code",
   "execution_count": 32,
   "id": "ad4336fa",
   "metadata": {},
   "outputs": [
    {
     "data": {
      "text/plain": [
       "3"
      ]
     },
     "execution_count": 32,
     "metadata": {},
     "output_type": "execute_result"
    }
   ],
   "source": [
    "l[-1][2]"
   ]
  },
  {
   "cell_type": "code",
   "execution_count": 33,
   "id": "1d1e78ed",
   "metadata": {},
   "outputs": [
    {
     "ename": "TypeError",
     "evalue": "'int' object is not iterable",
     "output_type": "error",
     "traceback": [
      "\u001b[1;31m---------------------------------------------------------------------------\u001b[0m",
      "\u001b[1;31mTypeError\u001b[0m                                 Traceback (most recent call last)",
      "Cell \u001b[1;32mIn[33], line 1\u001b[0m\n\u001b[1;32m----> 1\u001b[0m \u001b[43ml\u001b[49m\u001b[38;5;241;43m.\u001b[39;49m\u001b[43mextend\u001b[49m\u001b[43m(\u001b[49m\u001b[38;5;241;43m4\u001b[39;49m\u001b[43m)\u001b[49m\n",
      "\u001b[1;31mTypeError\u001b[0m: 'int' object is not iterable"
     ]
    }
   ],
   "source": [
    "l.extend(4)"
   ]
  },
  {
   "cell_type": "code",
   "execution_count": 34,
   "id": "35233428",
   "metadata": {},
   "outputs": [],
   "source": [
    "l.extend('sus')"
   ]
  },
  {
   "cell_type": "code",
   "execution_count": 35,
   "id": "29274972",
   "metadata": {},
   "outputs": [
    {
     "data": {
      "text/plain": [
       "[1,\n",
       " 345,\n",
       " 345554,\n",
       " 'Harshit',\n",
       " True,\n",
       " (5+3j),\n",
       " 364.33,\n",
       " 5,\n",
       " [1, 2, 3, 4],\n",
       " 's',\n",
       " 'u',\n",
       " 's']"
      ]
     },
     "execution_count": 35,
     "metadata": {},
     "output_type": "execute_result"
    }
   ],
   "source": [
    "l"
   ]
  },
  {
   "cell_type": "code",
   "execution_count": 36,
   "id": "dc802e98",
   "metadata": {},
   "outputs": [],
   "source": [
    "l.extend([3,4,5])"
   ]
  },
  {
   "cell_type": "code",
   "execution_count": 37,
   "id": "768fa5ea",
   "metadata": {},
   "outputs": [
    {
     "data": {
      "text/plain": [
       "[1,\n",
       " 345,\n",
       " 345554,\n",
       " 'Harshit',\n",
       " True,\n",
       " (5+3j),\n",
       " 364.33,\n",
       " 5,\n",
       " [1, 2, 3, 4],\n",
       " 's',\n",
       " 'u',\n",
       " 's',\n",
       " 3,\n",
       " 4,\n",
       " 5]"
      ]
     },
     "execution_count": 37,
     "metadata": {},
     "output_type": "execute_result"
    }
   ],
   "source": [
    "l"
   ]
  },
  {
   "cell_type": "markdown",
   "id": "015d0a35",
   "metadata": {},
   "source": [
    "# EXTEND VS APPEND"
   ]
  },
  {
   "cell_type": "code",
   "execution_count": 38,
   "id": "28ecb895",
   "metadata": {},
   "outputs": [],
   "source": [
    "#append VS extend \n",
    "#1)if we append\n",
    "l2 = [1,34,45,32]\n",
    "l3 = [7,6,74,3,6,2]"
   ]
  },
  {
   "cell_type": "code",
   "execution_count": 39,
   "id": "63e836ad",
   "metadata": {},
   "outputs": [],
   "source": [
    "l2.append(l3)"
   ]
  },
  {
   "cell_type": "code",
   "execution_count": 40,
   "id": "77c384d9",
   "metadata": {},
   "outputs": [
    {
     "data": {
      "text/plain": [
       "[1, 34, 45, 32, [7, 6, 74, 3, 6, 2]]"
      ]
     },
     "execution_count": 40,
     "metadata": {},
     "output_type": "execute_result"
    }
   ],
   "source": [
    "l2"
   ]
  },
  {
   "cell_type": "code",
   "execution_count": 41,
   "id": "4e113b46",
   "metadata": {},
   "outputs": [],
   "source": [
    "l3.extend(l2)"
   ]
  },
  {
   "cell_type": "code",
   "execution_count": 42,
   "id": "bf838837",
   "metadata": {},
   "outputs": [
    {
     "data": {
      "text/plain": [
       "[7, 6, 74, 3, 6, 2, 1, 34, 45, 32, [...]]"
      ]
     },
     "execution_count": 42,
     "metadata": {},
     "output_type": "execute_result"
    }
   ],
   "source": [
    "l3"
   ]
  },
  {
   "cell_type": "code",
   "execution_count": 43,
   "id": "28916a31",
   "metadata": {},
   "outputs": [],
   "source": [
    "#2) Extend\n",
    "l5 = \"sus\"\n",
    "l4 = [2,34,5,2,444]\n",
    "l6 = [2,34,5,2,444]"
   ]
  },
  {
   "cell_type": "code",
   "execution_count": 44,
   "id": "65086f94",
   "metadata": {},
   "outputs": [],
   "source": [
    "l4.extend(l5)"
   ]
  },
  {
   "cell_type": "code",
   "execution_count": 45,
   "id": "911ad359",
   "metadata": {},
   "outputs": [
    {
     "data": {
      "text/plain": [
       "[2, 34, 5, 2, 444, 's', 'u', 's']"
      ]
     },
     "execution_count": 45,
     "metadata": {},
     "output_type": "execute_result"
    }
   ],
   "source": [
    "l4"
   ]
  },
  {
   "cell_type": "code",
   "execution_count": 46,
   "id": "c4fd76ea",
   "metadata": {},
   "outputs": [],
   "source": [
    "#APPEND\n",
    "l6.append(l5)"
   ]
  },
  {
   "cell_type": "code",
   "execution_count": 47,
   "id": "7c711d40",
   "metadata": {},
   "outputs": [
    {
     "data": {
      "text/plain": [
       "[2, 34, 5, 2, 444, 'sus']"
      ]
     },
     "execution_count": 47,
     "metadata": {},
     "output_type": "execute_result"
    }
   ],
   "source": [
    "l6"
   ]
  },
  {
   "cell_type": "markdown",
   "id": "d708bdf1",
   "metadata": {},
   "source": [
    "# APPEND VS EXTEND VS INSERT"
   ]
  },
  {
   "cell_type": "code",
   "execution_count": 48,
   "id": "44ab2082",
   "metadata": {},
   "outputs": [],
   "source": [
    "#INSERT\n",
    "l55 = [3.4,56,6,7,42,3,5,6,7]"
   ]
  },
  {
   "cell_type": "code",
   "execution_count": 49,
   "id": "834e72ee",
   "metadata": {},
   "outputs": [],
   "source": [
    "l55.insert(0,'SUS')"
   ]
  },
  {
   "cell_type": "code",
   "execution_count": 50,
   "id": "58da56aa",
   "metadata": {},
   "outputs": [
    {
     "data": {
      "text/plain": [
       "['SUS', 3.4, 56, 6, 7, 42, 3, 5, 6, 7]"
      ]
     },
     "execution_count": 50,
     "metadata": {},
     "output_type": "execute_result"
    }
   ],
   "source": [
    "l55"
   ]
  },
  {
   "cell_type": "code",
   "execution_count": 51,
   "id": "6029d6fc",
   "metadata": {},
   "outputs": [],
   "source": [
    "l55.insert(-1,44)#teen bar run kar diya"
   ]
  },
  {
   "cell_type": "code",
   "execution_count": 52,
   "id": "316b198f",
   "metadata": {},
   "outputs": [
    {
     "data": {
      "text/plain": [
       "['SUS', 3.4, 56, 6, 7, 42, 3, 5, 6, 44, 7]"
      ]
     },
     "execution_count": 52,
     "metadata": {},
     "output_type": "execute_result"
    }
   ],
   "source": [
    "l55"
   ]
  },
  {
   "cell_type": "markdown",
   "id": "3f665702",
   "metadata": {},
   "source": [
    "# REMOVE DATA FROM LIST"
   ]
  },
  {
   "cell_type": "code",
   "execution_count": 53,
   "id": "48a791ba",
   "metadata": {},
   "outputs": [],
   "source": [
    "#pop V/S remove"
   ]
  },
  {
   "cell_type": "code",
   "execution_count": 54,
   "id": "75ebcd7b",
   "metadata": {},
   "outputs": [
    {
     "data": {
      "text/plain": [
       "7"
      ]
     },
     "execution_count": 54,
     "metadata": {},
     "output_type": "execute_result"
    }
   ],
   "source": [
    "l55.pop()"
   ]
  },
  {
   "cell_type": "code",
   "execution_count": 55,
   "id": "0f74c793",
   "metadata": {},
   "outputs": [
    {
     "data": {
      "text/plain": [
       "['SUS', 3.4, 56, 6, 7, 42, 3, 5, 6, 44]"
      ]
     },
     "execution_count": 55,
     "metadata": {},
     "output_type": "execute_result"
    }
   ],
   "source": [
    "l55"
   ]
  },
  {
   "cell_type": "code",
   "execution_count": 56,
   "id": "db44850c",
   "metadata": {},
   "outputs": [
    {
     "data": {
      "text/plain": [
       "44"
      ]
     },
     "execution_count": 56,
     "metadata": {},
     "output_type": "execute_result"
    }
   ],
   "source": [
    "l55.pop()"
   ]
  },
  {
   "cell_type": "code",
   "execution_count": 57,
   "id": "fdc07a24",
   "metadata": {},
   "outputs": [
    {
     "data": {
      "text/plain": [
       "['SUS', 3.4, 56, 6, 7, 42, 3, 5, 6]"
      ]
     },
     "execution_count": 57,
     "metadata": {},
     "output_type": "execute_result"
    }
   ],
   "source": [
    "l55"
   ]
  },
  {
   "cell_type": "code",
   "execution_count": 58,
   "id": "4a4f55b9",
   "metadata": {},
   "outputs": [
    {
     "data": {
      "text/plain": [
       "56"
      ]
     },
     "execution_count": 58,
     "metadata": {},
     "output_type": "execute_result"
    }
   ],
   "source": [
    "l55.pop(2)"
   ]
  },
  {
   "cell_type": "code",
   "execution_count": 59,
   "id": "e49f2c4f",
   "metadata": {},
   "outputs": [
    {
     "data": {
      "text/plain": [
       "['SUS', 3.4, 6, 7, 42, 3, 5, 6]"
      ]
     },
     "execution_count": 59,
     "metadata": {},
     "output_type": "execute_result"
    }
   ],
   "source": [
    "l55"
   ]
  },
  {
   "cell_type": "code",
   "execution_count": 60,
   "id": "65705069",
   "metadata": {},
   "outputs": [],
   "source": [
    "l55.remove('SUS')"
   ]
  },
  {
   "cell_type": "code",
   "execution_count": 61,
   "id": "70ab3966",
   "metadata": {},
   "outputs": [
    {
     "data": {
      "text/plain": [
       "[3.4, 6, 7, 42, 3, 5, 6]"
      ]
     },
     "execution_count": 61,
     "metadata": {},
     "output_type": "execute_result"
    }
   ],
   "source": [
    "l55"
   ]
  },
  {
   "cell_type": "code",
   "execution_count": 62,
   "id": "00c71888",
   "metadata": {},
   "outputs": [
    {
     "ename": "ValueError",
     "evalue": "list.remove(x): x not in list",
     "output_type": "error",
     "traceback": [
      "\u001b[1;31m---------------------------------------------------------------------------\u001b[0m",
      "\u001b[1;31mValueError\u001b[0m                                Traceback (most recent call last)",
      "Cell \u001b[1;32mIn[62], line 1\u001b[0m\n\u001b[1;32m----> 1\u001b[0m \u001b[43ml55\u001b[49m\u001b[38;5;241;43m.\u001b[39;49m\u001b[43mremove\u001b[49m\u001b[43m(\u001b[49m\u001b[38;5;241;43m443\u001b[39;49m\u001b[43m)\u001b[49m\n",
      "\u001b[1;31mValueError\u001b[0m: list.remove(x): x not in list"
     ]
    }
   ],
   "source": [
    "l55.remove(443)"
   ]
  },
  {
   "cell_type": "code",
   "execution_count": 63,
   "id": "ff8c0228",
   "metadata": {},
   "outputs": [],
   "source": [
    "l77 = [94,56,43,2,3]"
   ]
  },
  {
   "cell_type": "code",
   "execution_count": 64,
   "id": "f0c0621a",
   "metadata": {},
   "outputs": [],
   "source": [
    "l55.append(l77)"
   ]
  },
  {
   "cell_type": "code",
   "execution_count": 65,
   "id": "5d1d9261",
   "metadata": {},
   "outputs": [
    {
     "data": {
      "text/plain": [
       "[3.4, 6, 7, 42, 3, 5, 6, [94, 56, 43, 2, 3]]"
      ]
     },
     "execution_count": 65,
     "metadata": {},
     "output_type": "execute_result"
    }
   ],
   "source": [
    "l55"
   ]
  },
  {
   "cell_type": "code",
   "execution_count": 66,
   "id": "54be1c89",
   "metadata": {},
   "outputs": [
    {
     "ename": "IndexError",
     "evalue": "list index out of range",
     "output_type": "error",
     "traceback": [
      "\u001b[1;31m---------------------------------------------------------------------------\u001b[0m",
      "\u001b[1;31mIndexError\u001b[0m                                Traceback (most recent call last)",
      "Cell \u001b[1;32mIn[66], line 1\u001b[0m\n\u001b[1;32m----> 1\u001b[0m \u001b[43ml55\u001b[49m\u001b[43m[\u001b[49m\u001b[38;5;241;43m9\u001b[39;49m\u001b[43m]\u001b[49m\u001b[38;5;241m.\u001b[39mremove(\u001b[38;5;241m56\u001b[39m)\n",
      "\u001b[1;31mIndexError\u001b[0m: list index out of range"
     ]
    }
   ],
   "source": [
    "l55[9].remove(56)"
   ]
  },
  {
   "cell_type": "code",
   "execution_count": 67,
   "id": "5f34687a",
   "metadata": {},
   "outputs": [
    {
     "data": {
      "text/plain": [
       "[3.4, 6, 7, 42, 3, 5, 6, [94, 56, 43, 2, 3]]"
      ]
     },
     "execution_count": 67,
     "metadata": {},
     "output_type": "execute_result"
    }
   ],
   "source": [
    "l55"
   ]
  },
  {
   "cell_type": "code",
   "execution_count": 68,
   "id": "6d26f565",
   "metadata": {},
   "outputs": [],
   "source": [
    "l55.append('space')"
   ]
  },
  {
   "cell_type": "code",
   "execution_count": 69,
   "id": "d010a63b",
   "metadata": {},
   "outputs": [
    {
     "data": {
      "text/plain": [
       "[3.4, 6, 7, 42, 3, 5, 6, [94, 56, 43, 2, 3], 'space']"
      ]
     },
     "execution_count": 69,
     "metadata": {},
     "output_type": "execute_result"
    }
   ],
   "source": [
    "l55"
   ]
  },
  {
   "cell_type": "code",
   "execution_count": 70,
   "id": "ebbb19ef",
   "metadata": {},
   "outputs": [
    {
     "ename": "IndexError",
     "evalue": "list index out of range",
     "output_type": "error",
     "traceback": [
      "\u001b[1;31m---------------------------------------------------------------------------\u001b[0m",
      "\u001b[1;31mIndexError\u001b[0m                                Traceback (most recent call last)",
      "Cell \u001b[1;32mIn[70], line 1\u001b[0m\n\u001b[1;32m----> 1\u001b[0m \u001b[43ml55\u001b[49m\u001b[43m[\u001b[49m\u001b[38;5;241;43m10\u001b[39;49m\u001b[43m]\u001b[49m\u001b[38;5;241m.\u001b[39mremove(\u001b[38;5;124m'\u001b[39m\u001b[38;5;124msp\u001b[39m\u001b[38;5;124m'\u001b[39m)\n",
      "\u001b[1;31mIndexError\u001b[0m: list index out of range"
     ]
    }
   ],
   "source": [
    "l55[10].remove('sp')"
   ]
  },
  {
   "cell_type": "code",
   "execution_count": 71,
   "id": "cb6ad6a0",
   "metadata": {},
   "outputs": [],
   "source": [
    "l55.insert(3,4)"
   ]
  },
  {
   "cell_type": "code",
   "execution_count": 72,
   "id": "e0ce6e10",
   "metadata": {},
   "outputs": [
    {
     "data": {
      "text/plain": [
       "[3.4, 6, 7, 4, 42, 3, 5, 6, [94, 56, 43, 2, 3], 'space']"
      ]
     },
     "execution_count": 72,
     "metadata": {},
     "output_type": "execute_result"
    }
   ],
   "source": [
    "l55"
   ]
  },
  {
   "cell_type": "code",
   "execution_count": 73,
   "id": "2e4ecdec",
   "metadata": {},
   "outputs": [],
   "source": [
    "l55.remove(4)# it removes 4 from first occurance"
   ]
  },
  {
   "cell_type": "code",
   "execution_count": 74,
   "id": "5796f0f4",
   "metadata": {},
   "outputs": [
    {
     "data": {
      "text/plain": [
       "[3.4, 6, 7, 42, 3, 5, 6, [94, 56, 43, 2, 3], 'space']"
      ]
     },
     "execution_count": 74,
     "metadata": {},
     "output_type": "execute_result"
    }
   ],
   "source": [
    "l55"
   ]
  },
  {
   "cell_type": "code",
   "execution_count": 75,
   "id": "f487e444",
   "metadata": {},
   "outputs": [],
   "source": [
    "l55.reverse()"
   ]
  },
  {
   "cell_type": "code",
   "execution_count": 76,
   "id": "2480a404",
   "metadata": {},
   "outputs": [
    {
     "data": {
      "text/plain": [
       "['space', [94, 56, 43, 2, 3], 6, 5, 3, 42, 7, 6, 3.4]"
      ]
     },
     "execution_count": 76,
     "metadata": {},
     "output_type": "execute_result"
    }
   ],
   "source": [
    "l55"
   ]
  },
  {
   "cell_type": "code",
   "execution_count": 77,
   "id": "ff05f3b0",
   "metadata": {},
   "outputs": [
    {
     "ename": "TypeError",
     "evalue": "'<' not supported between instances of 'list' and 'str'",
     "output_type": "error",
     "traceback": [
      "\u001b[1;31m---------------------------------------------------------------------------\u001b[0m",
      "\u001b[1;31mTypeError\u001b[0m                                 Traceback (most recent call last)",
      "Cell \u001b[1;32mIn[77], line 1\u001b[0m\n\u001b[1;32m----> 1\u001b[0m \u001b[43ml55\u001b[49m\u001b[38;5;241;43m.\u001b[39;49m\u001b[43msort\u001b[49m\u001b[43m(\u001b[49m\u001b[43m)\u001b[49m\n",
      "\u001b[1;31mTypeError\u001b[0m: '<' not supported between instances of 'list' and 'str'"
     ]
    }
   ],
   "source": [
    "l55.sort()"
   ]
  },
  {
   "cell_type": "code",
   "execution_count": 78,
   "id": "8ad6f5f1",
   "metadata": {},
   "outputs": [],
   "source": [
    "l21 = [1,23,4,5674,3,25,667,3,4,445,5,3,]"
   ]
  },
  {
   "cell_type": "code",
   "execution_count": 79,
   "id": "319a2603",
   "metadata": {},
   "outputs": [],
   "source": [
    "l21.sort()"
   ]
  },
  {
   "cell_type": "code",
   "execution_count": 80,
   "id": "3d93bd93",
   "metadata": {},
   "outputs": [
    {
     "data": {
      "text/plain": [
       "[1, 3, 3, 3, 4, 4, 5, 23, 25, 445, 667, 5674]"
      ]
     },
     "execution_count": 80,
     "metadata": {},
     "output_type": "execute_result"
    }
   ],
   "source": [
    "l21"
   ]
  },
  {
   "cell_type": "code",
   "execution_count": 81,
   "id": "05722376",
   "metadata": {},
   "outputs": [],
   "source": [
    "l3 = [2,3,4,'XD',8493,56,21 ]"
   ]
  },
  {
   "cell_type": "code",
   "execution_count": 82,
   "id": "d55a1ccf",
   "metadata": {},
   "outputs": [
    {
     "ename": "TypeError",
     "evalue": "'<' not supported between instances of 'str' and 'int'",
     "output_type": "error",
     "traceback": [
      "\u001b[1;31m---------------------------------------------------------------------------\u001b[0m",
      "\u001b[1;31mTypeError\u001b[0m                                 Traceback (most recent call last)",
      "Cell \u001b[1;32mIn[82], line 1\u001b[0m\n\u001b[1;32m----> 1\u001b[0m \u001b[43ml3\u001b[49m\u001b[38;5;241;43m.\u001b[39;49m\u001b[43msort\u001b[49m\u001b[43m(\u001b[49m\u001b[43m)\u001b[49m\n",
      "\u001b[1;31mTypeError\u001b[0m: '<' not supported between instances of 'str' and 'int'"
     ]
    }
   ],
   "source": [
    "l3.sort()"
   ]
  },
  {
   "cell_type": "code",
   "execution_count": 83,
   "id": "16f2e401",
   "metadata": {},
   "outputs": [],
   "source": [
    "l43 = ['Happy','Birthday','To','me']"
   ]
  },
  {
   "cell_type": "code",
   "execution_count": 84,
   "id": "301b704b",
   "metadata": {},
   "outputs": [],
   "source": [
    "l43.sort()"
   ]
  },
  {
   "cell_type": "code",
   "execution_count": 85,
   "id": "2edbe4e1",
   "metadata": {},
   "outputs": [
    {
     "data": {
      "text/plain": [
       "['Birthday', 'Happy', 'To', 'me']"
      ]
     },
     "execution_count": 85,
     "metadata": {},
     "output_type": "execute_result"
    }
   ],
   "source": [
    "l43"
   ]
  },
  {
   "cell_type": "code",
   "execution_count": 86,
   "id": "7df065b3",
   "metadata": {},
   "outputs": [],
   "source": [
    "l43.sort(reverse = True)"
   ]
  },
  {
   "cell_type": "code",
   "execution_count": 87,
   "id": "6273426c",
   "metadata": {},
   "outputs": [
    {
     "data": {
      "text/plain": [
       "['me', 'To', 'Happy', 'Birthday']"
      ]
     },
     "execution_count": 87,
     "metadata": {},
     "output_type": "execute_result"
    }
   ],
   "source": [
    "l43"
   ]
  },
  {
   "cell_type": "code",
   "execution_count": 88,
   "id": "b127262d",
   "metadata": {},
   "outputs": [
    {
     "ename": "ValueError",
     "evalue": "'' is not in list",
     "output_type": "error",
     "traceback": [
      "\u001b[1;31m---------------------------------------------------------------------------\u001b[0m",
      "\u001b[1;31mValueError\u001b[0m                                Traceback (most recent call last)",
      "Cell \u001b[1;32mIn[88], line 1\u001b[0m\n\u001b[1;32m----> 1\u001b[0m \u001b[43ml4\u001b[49m\u001b[38;5;241;43m.\u001b[39;49m\u001b[43mindex\u001b[49m\u001b[43m(\u001b[49m\u001b[38;5;124;43m'\u001b[39;49m\u001b[38;5;124;43m'\u001b[39;49m\u001b[43m)\u001b[49m\n",
      "\u001b[1;31mValueError\u001b[0m: '' is not in list"
     ]
    }
   ],
   "source": [
    "l4.index('')"
   ]
  },
  {
   "cell_type": "code",
   "execution_count": 89,
   "id": "270fdede",
   "metadata": {},
   "outputs": [],
   "source": [
    "s = 'HArshit'"
   ]
  },
  {
   "cell_type": "code",
   "execution_count": 90,
   "id": "b0d23731",
   "metadata": {},
   "outputs": [],
   "source": [
    "l8 = [4,53,2,4,6]"
   ]
  },
  {
   "cell_type": "code",
   "execution_count": 91,
   "id": "28939630",
   "metadata": {},
   "outputs": [
    {
     "data": {
      "text/plain": [
       "'H'"
      ]
     },
     "execution_count": 91,
     "metadata": {},
     "output_type": "execute_result"
    }
   ],
   "source": [
    "s[0]"
   ]
  },
  {
   "cell_type": "code",
   "execution_count": 92,
   "id": "abcf905d",
   "metadata": {},
   "outputs": [
    {
     "ename": "TypeError",
     "evalue": "'str' object does not support item assignment",
     "output_type": "error",
     "traceback": [
      "\u001b[1;31m---------------------------------------------------------------------------\u001b[0m",
      "\u001b[1;31mTypeError\u001b[0m                                 Traceback (most recent call last)",
      "Cell \u001b[1;32mIn[92], line 1\u001b[0m\n\u001b[1;32m----> 1\u001b[0m s[\u001b[38;5;241m0\u001b[39m] \u001b[38;5;241m=\u001b[39m \u001b[38;5;124m'\u001b[39m\u001b[38;5;124mA\u001b[39m\u001b[38;5;124m'\u001b[39m\n",
      "\u001b[1;31mTypeError\u001b[0m: 'str' object does not support item assignment"
     ]
    }
   ],
   "source": [
    "s[0] = 'A'"
   ]
  },
  {
   "cell_type": "code",
   "execution_count": 93,
   "id": "75c75087",
   "metadata": {},
   "outputs": [],
   "source": [
    "l8[0] = 30"
   ]
  },
  {
   "cell_type": "code",
   "execution_count": 94,
   "id": "d891b465",
   "metadata": {},
   "outputs": [
    {
     "data": {
      "text/plain": [
       "[30, 53, 2, 4, 6]"
      ]
     },
     "execution_count": 94,
     "metadata": {},
     "output_type": "execute_result"
    }
   ],
   "source": [
    "l8"
   ]
  },
  {
   "cell_type": "code",
   "execution_count": 95,
   "id": "3944a612",
   "metadata": {},
   "outputs": [],
   "source": [
    "l8.sort()"
   ]
  },
  {
   "cell_type": "code",
   "execution_count": 96,
   "id": "ab6df097",
   "metadata": {},
   "outputs": [
    {
     "data": {
      "text/plain": [
       "[2, 4, 6, 30, 53]"
      ]
     },
     "execution_count": 96,
     "metadata": {},
     "output_type": "execute_result"
    }
   ],
   "source": [
    "l8"
   ]
  },
  {
   "cell_type": "code",
   "execution_count": 97,
   "id": "82bed554",
   "metadata": {},
   "outputs": [],
   "source": [
    "l9 = [2,345,67,'Harshit']"
   ]
  },
  {
   "cell_type": "code",
   "execution_count": 98,
   "id": "592188ce",
   "metadata": {},
   "outputs": [
    {
     "ename": "TypeError",
     "evalue": "'<' not supported between instances of 'str' and 'int'",
     "output_type": "error",
     "traceback": [
      "\u001b[1;31m---------------------------------------------------------------------------\u001b[0m",
      "\u001b[1;31mTypeError\u001b[0m                                 Traceback (most recent call last)",
      "Cell \u001b[1;32mIn[98], line 1\u001b[0m\n\u001b[1;32m----> 1\u001b[0m \u001b[43ml9\u001b[49m\u001b[38;5;241;43m.\u001b[39;49m\u001b[43msort\u001b[49m\u001b[43m(\u001b[49m\u001b[43m)\u001b[49m\n",
      "\u001b[1;31mTypeError\u001b[0m: '<' not supported between instances of 'str' and 'int'"
     ]
    }
   ],
   "source": [
    "l9.sort()"
   ]
  },
  {
   "cell_type": "code",
   "execution_count": 99,
   "id": "5ca8a59a",
   "metadata": {},
   "outputs": [],
   "source": [
    "l10 = ['Harshit','Sharma','Raman']"
   ]
  },
  {
   "cell_type": "code",
   "execution_count": 100,
   "id": "49f92f53",
   "metadata": {},
   "outputs": [],
   "source": [
    "l10.sort()"
   ]
  },
  {
   "cell_type": "code",
   "execution_count": 101,
   "id": "222d997b",
   "metadata": {},
   "outputs": [
    {
     "data": {
      "text/plain": [
       "['Harshit', 'Raman', 'Sharma']"
      ]
     },
     "execution_count": 101,
     "metadata": {},
     "output_type": "execute_result"
    }
   ],
   "source": [
    "l10"
   ]
  },
  {
   "cell_type": "code",
   "execution_count": 102,
   "id": "ce8c0c46",
   "metadata": {},
   "outputs": [],
   "source": [
    "l10.sort(reverse = True)"
   ]
  },
  {
   "cell_type": "code",
   "execution_count": 103,
   "id": "fc9c4fd7",
   "metadata": {},
   "outputs": [
    {
     "data": {
      "text/plain": [
       "['Sharma', 'Raman', 'Harshit']"
      ]
     },
     "execution_count": 103,
     "metadata": {},
     "output_type": "execute_result"
    }
   ],
   "source": [
    "\n",
    "l10"
   ]
  },
  {
   "cell_type": "code",
   "execution_count": 104,
   "id": "16e91572",
   "metadata": {},
   "outputs": [
    {
     "data": {
      "text/plain": [
       "2"
      ]
     },
     "execution_count": 104,
     "metadata": {},
     "output_type": "execute_result"
    }
   ],
   "source": [
    "l10.index('Harshit')"
   ]
  },
  {
   "cell_type": "code",
   "execution_count": 105,
   "id": "87b9ae60",
   "metadata": {},
   "outputs": [
    {
     "data": {
      "text/plain": [
       "1"
      ]
     },
     "execution_count": 105,
     "metadata": {},
     "output_type": "execute_result"
    }
   ],
   "source": [
    "l10.count('Harshit')"
   ]
  },
  {
   "cell_type": "code",
   "execution_count": 106,
   "id": "f627066b",
   "metadata": {},
   "outputs": [],
   "source": [
    "s  = 'Harshit'"
   ]
  },
  {
   "cell_type": "code",
   "execution_count": 107,
   "id": "f90355aa",
   "metadata": {},
   "outputs": [],
   "source": [
    "l22 = [ 2,2,43,45,3]"
   ]
  },
  {
   "cell_type": "code",
   "execution_count": 108,
   "id": "4b637819",
   "metadata": {},
   "outputs": [
    {
     "ename": "TypeError",
     "evalue": "'str' object does not support item assignment",
     "output_type": "error",
     "traceback": [
      "\u001b[1;31m---------------------------------------------------------------------------\u001b[0m",
      "\u001b[1;31mTypeError\u001b[0m                                 Traceback (most recent call last)",
      "Cell \u001b[1;32mIn[108], line 1\u001b[0m\n\u001b[1;32m----> 1\u001b[0m s[\u001b[38;5;241m0\u001b[39m] \u001b[38;5;241m=\u001b[39m \u001b[38;5;124m'\u001b[39m\u001b[38;5;124ma\u001b[39m\u001b[38;5;124m'\u001b[39m\n",
      "\u001b[1;31mTypeError\u001b[0m: 'str' object does not support item assignment"
     ]
    }
   ],
   "source": [
    "s[0] = 'a'"
   ]
  },
  {
   "cell_type": "code",
   "execution_count": 109,
   "id": "3a1892e0",
   "metadata": {},
   "outputs": [
    {
     "data": {
      "text/plain": [
       "2"
      ]
     },
     "execution_count": 109,
     "metadata": {},
     "output_type": "execute_result"
    }
   ],
   "source": [
    "l22[0]"
   ]
  },
  {
   "cell_type": "code",
   "execution_count": 110,
   "id": "f24a1d2e",
   "metadata": {},
   "outputs": [],
   "source": [
    "l22[0] = 12"
   ]
  },
  {
   "cell_type": "code",
   "execution_count": 111,
   "id": "9f63ddfe",
   "metadata": {},
   "outputs": [
    {
     "data": {
      "text/plain": [
       "[12, 2, 43, 45, 3]"
      ]
     },
     "execution_count": 111,
     "metadata": {},
     "output_type": "execute_result"
    }
   ],
   "source": [
    "l22"
   ]
  },
  {
   "cell_type": "code",
   "execution_count": 112,
   "id": "d767f517",
   "metadata": {},
   "outputs": [
    {
     "data": {
      "text/plain": [
       "'Aarshit'"
      ]
     },
     "execution_count": 112,
     "metadata": {},
     "output_type": "execute_result"
    }
   ],
   "source": [
    "s.replace('H','A')"
   ]
  },
  {
   "cell_type": "code",
   "execution_count": 113,
   "id": "19ace54d",
   "metadata": {},
   "outputs": [
    {
     "data": {
      "text/plain": [
       "'Harshit'"
      ]
     },
     "execution_count": 113,
     "metadata": {},
     "output_type": "execute_result"
    }
   ],
   "source": [
    "s "
   ]
  },
  {
   "cell_type": "code",
   "execution_count": 115,
   "id": "04b22672",
   "metadata": {},
   "outputs": [],
   "source": [
    "t = (2,34,5,22,3,6,7,4,3,22,'Harshit',30.32,True,45+67j,[2,34,21])"
   ]
  },
  {
   "cell_type": "code",
   "execution_count": 116,
   "id": "78f81b30",
   "metadata": {},
   "outputs": [
    {
     "data": {
      "text/plain": [
       "(2,\n",
       " 34,\n",
       " 5,\n",
       " 22,\n",
       " 3,\n",
       " 6,\n",
       " 7,\n",
       " 4,\n",
       " 3,\n",
       " 22,\n",
       " 'Harshit',\n",
       " 30.32,\n",
       " True,\n",
       " (45+67j),\n",
       " [2, 34, 21])"
      ]
     },
     "execution_count": 116,
     "metadata": {},
     "output_type": "execute_result"
    }
   ],
   "source": [
    "t"
   ]
  },
  {
   "cell_type": "code",
   "execution_count": 117,
   "id": "20206dfa",
   "metadata": {},
   "outputs": [
    {
     "data": {
      "text/plain": [
       "tuple"
      ]
     },
     "execution_count": 117,
     "metadata": {},
     "output_type": "execute_result"
    }
   ],
   "source": [
    "type(t)"
   ]
  },
  {
   "cell_type": "code",
   "execution_count": 118,
   "id": "4d7061ee",
   "metadata": {},
   "outputs": [
    {
     "data": {
      "text/plain": [
       "15"
      ]
     },
     "execution_count": 118,
     "metadata": {},
     "output_type": "execute_result"
    }
   ],
   "source": [
    "len(t)"
   ]
  },
  {
   "cell_type": "code",
   "execution_count": 119,
   "id": "dbb85cdc",
   "metadata": {},
   "outputs": [
    {
     "data": {
      "text/plain": [
       "2"
      ]
     },
     "execution_count": 119,
     "metadata": {},
     "output_type": "execute_result"
    }
   ],
   "source": [
    "t[0]"
   ]
  },
  {
   "cell_type": "code",
   "execution_count": 121,
   "id": "f304b795",
   "metadata": {},
   "outputs": [
    {
     "data": {
      "text/plain": [
       "[2, 34, 21]"
      ]
     },
     "execution_count": 121,
     "metadata": {},
     "output_type": "execute_result"
    }
   ],
   "source": [
    "t[-1]"
   ]
  },
  {
   "cell_type": "code",
   "execution_count": 122,
   "id": "f4d8b791",
   "metadata": {},
   "outputs": [
    {
     "data": {
      "text/plain": [
       "([2, 34, 21],\n",
       " (45+67j),\n",
       " True,\n",
       " 30.32,\n",
       " 'Harshit',\n",
       " 22,\n",
       " 3,\n",
       " 4,\n",
       " 7,\n",
       " 6,\n",
       " 3,\n",
       " 22,\n",
       " 5,\n",
       " 34,\n",
       " 2)"
      ]
     },
     "execution_count": 122,
     "metadata": {},
     "output_type": "execute_result"
    }
   ],
   "source": [
    "t[::-1]"
   ]
  },
  {
   "cell_type": "code",
   "execution_count": 123,
   "id": "ac3f6cbf",
   "metadata": {},
   "outputs": [
    {
     "data": {
      "text/plain": [
       "[12, 2, 43, 45, 3]"
      ]
     },
     "execution_count": 123,
     "metadata": {},
     "output_type": "execute_result"
    }
   ],
   "source": [
    "l22"
   ]
  },
  {
   "cell_type": "code",
   "execution_count": 125,
   "id": "66d20539",
   "metadata": {},
   "outputs": [],
   "source": [
    "l10[0] = 22"
   ]
  },
  {
   "cell_type": "code",
   "execution_count": 126,
   "id": "382f434a",
   "metadata": {},
   "outputs": [
    {
     "data": {
      "text/plain": [
       "[22, 'Raman', 'Harshit']"
      ]
     },
     "execution_count": 126,
     "metadata": {},
     "output_type": "execute_result"
    }
   ],
   "source": [
    "l10"
   ]
  },
  {
   "cell_type": "code",
   "execution_count": 127,
   "id": "42ae0fa4",
   "metadata": {},
   "outputs": [
    {
     "ename": "TypeError",
     "evalue": "'tuple' object does not support item assignment",
     "output_type": "error",
     "traceback": [
      "\u001b[1;31m---------------------------------------------------------------------------\u001b[0m",
      "\u001b[1;31mTypeError\u001b[0m                                 Traceback (most recent call last)",
      "Cell \u001b[1;32mIn[127], line 1\u001b[0m\n\u001b[1;32m----> 1\u001b[0m t[\u001b[38;5;241m0\u001b[39m] \u001b[38;5;241m=\u001b[39m \u001b[38;5;124m'\u001b[39m\u001b[38;5;124mHarshit\u001b[39m\u001b[38;5;124m'\u001b[39m\n",
      "\u001b[1;31mTypeError\u001b[0m: 'tuple' object does not support item assignment"
     ]
    }
   ],
   "source": [
    "t[0] = 'Harshit'"
   ]
  },
  {
   "cell_type": "code",
   "execution_count": 129,
   "id": "96642ad5",
   "metadata": {},
   "outputs": [
    {
     "data": {
      "text/plain": [
       "1"
      ]
     },
     "execution_count": 129,
     "metadata": {},
     "output_type": "execute_result"
    }
   ],
   "source": [
    "t.count(2)"
   ]
  },
  {
   "cell_type": "code",
   "execution_count": 130,
   "id": "8160bdf2",
   "metadata": {},
   "outputs": [
    {
     "data": {
      "text/plain": [
       "12"
      ]
     },
     "execution_count": 130,
     "metadata": {},
     "output_type": "execute_result"
    }
   ],
   "source": [
    "t.index(True)"
   ]
  },
  {
   "cell_type": "code",
   "execution_count": 131,
   "id": "da3afb53",
   "metadata": {},
   "outputs": [],
   "source": [
    "s1 = {}"
   ]
  },
  {
   "cell_type": "code",
   "execution_count": 132,
   "id": "e92b7727",
   "metadata": {},
   "outputs": [
    {
     "data": {
      "text/plain": [
       "dict"
      ]
     },
     "execution_count": 132,
     "metadata": {},
     "output_type": "execute_result"
    }
   ],
   "source": [
    "type(s1)"
   ]
  },
  {
   "cell_type": "code",
   "execution_count": 133,
   "id": "65553812",
   "metadata": {},
   "outputs": [],
   "source": [
    "s2  = {2,34,2,1,34}"
   ]
  },
  {
   "cell_type": "code",
   "execution_count": 134,
   "id": "ec20e8b9",
   "metadata": {},
   "outputs": [
    {
     "data": {
      "text/plain": [
       "set"
      ]
     },
     "execution_count": 134,
     "metadata": {},
     "output_type": "execute_result"
    }
   ],
   "source": [
    "type(s2)"
   ]
  },
  {
   "cell_type": "code",
   "execution_count": 135,
   "id": "e9179bf0",
   "metadata": {},
   "outputs": [
    {
     "ename": "TypeError",
     "evalue": "unhashable type: 'list'",
     "output_type": "error",
     "traceback": [
      "\u001b[1;31m---------------------------------------------------------------------------\u001b[0m",
      "\u001b[1;31mTypeError\u001b[0m                                 Traceback (most recent call last)",
      "Cell \u001b[1;32mIn[135], line 1\u001b[0m\n\u001b[1;32m----> 1\u001b[0m s3 \u001b[38;5;241m=\u001b[39m {\u001b[38;5;241m22\u001b[39m,\u001b[38;5;241m34\u001b[39m,\u001b[38;5;241m21\u001b[39m,\u001b[38;5;241m32\u001b[39m,\u001b[38;5;241m4\u001b[39m,\u001b[38;5;241m3\u001b[39m,\u001b[38;5;241m1\u001b[39m,\u001b[38;5;241m2\u001b[39m,\u001b[38;5;241m43\u001b[39m,\u001b[38;5;241m2\u001b[39m,\u001b[38;5;241m1\u001b[39m,\u001b[38;5;241m3\u001b[39m,\u001b[38;5;241m4\u001b[39m,\u001b[38;5;124m'\u001b[39m\u001b[38;5;124mHarshit\u001b[39m\u001b[38;5;124m'\u001b[39m,[\u001b[38;5;241m2\u001b[39m,\u001b[38;5;241m34\u001b[39m,\u001b[38;5;241m1\u001b[39m,\u001b[38;5;241m2\u001b[39m]}\n",
      "\u001b[1;31mTypeError\u001b[0m: unhashable type: 'list'"
     ]
    }
   ],
   "source": [
    "s3 = {22,34,21,32,4,3,1,2,43,2,1,3,4,'Harshit',[2,34,1,2]}"
   ]
  },
  {
   "cell_type": "code",
   "execution_count": 136,
   "id": "595250bb",
   "metadata": {},
   "outputs": [],
   "source": [
    "s4 = {22,34,21,32,4,3,1,2,43,2,1,3,4,'Harshit',(2,34,1,2)}"
   ]
  },
  {
   "cell_type": "code",
   "execution_count": 137,
   "id": "5bba2cf1",
   "metadata": {},
   "outputs": [],
   "source": [
    "s5 = {2,3,4,2,1,3,4,5,6,7,4,3,2,2,3,4,5}"
   ]
  },
  {
   "cell_type": "code",
   "execution_count": 138,
   "id": "c38ca7fc",
   "metadata": {},
   "outputs": [
    {
     "data": {
      "text/plain": [
       "{1, 2, 3, 4, 5, 6, 7}"
      ]
     },
     "execution_count": 138,
     "metadata": {},
     "output_type": "execute_result"
    }
   ],
   "source": [
    "s5"
   ]
  },
  {
   "cell_type": "code",
   "execution_count": 147,
   "id": "37730056",
   "metadata": {},
   "outputs": [],
   "source": [
    "l6 = [22,3,4,2,1,3,4,5,6,7,8,5,4,3,2,3,45,5,6,7,7,8,9,9,6]"
   ]
  },
  {
   "cell_type": "code",
   "execution_count": 148,
   "id": "62dd93f2",
   "metadata": {},
   "outputs": [],
   "source": [
    "l6 = list(set(l6))"
   ]
  },
  {
   "cell_type": "code",
   "execution_count": 149,
   "id": "0dbf0db2",
   "metadata": {},
   "outputs": [
    {
     "data": {
      "text/plain": [
       "[1, 2, 3, 4, 5, 6, 7, 8, 9, 45, 22]"
      ]
     },
     "execution_count": 149,
     "metadata": {},
     "output_type": "execute_result"
    }
   ],
   "source": [
    "l6"
   ]
  },
  {
   "cell_type": "code",
   "execution_count": 150,
   "id": "2e87dbb7",
   "metadata": {},
   "outputs": [],
   "source": [
    "s7 = {223,56,21,45,6,7,31,1,11,3,4,5,6,7,8,'Harshit'}"
   ]
  },
  {
   "cell_type": "code",
   "execution_count": 151,
   "id": "2e53cce7",
   "metadata": {},
   "outputs": [
    {
     "data": {
      "text/plain": [
       "{1, 11, 21, 223, 3, 31, 4, 45, 5, 56, 6, 7, 8, 'Harshit'}"
      ]
     },
     "execution_count": 151,
     "metadata": {},
     "output_type": "execute_result"
    }
   ],
   "source": [
    "s7"
   ]
  },
  {
   "cell_type": "code",
   "execution_count": 152,
   "id": "936ad968",
   "metadata": {},
   "outputs": [
    {
     "ename": "TypeError",
     "evalue": "'set' object is not subscriptable",
     "output_type": "error",
     "traceback": [
      "\u001b[1;31m---------------------------------------------------------------------------\u001b[0m",
      "\u001b[1;31mTypeError\u001b[0m                                 Traceback (most recent call last)",
      "Cell \u001b[1;32mIn[152], line 1\u001b[0m\n\u001b[1;32m----> 1\u001b[0m \u001b[43ms7\u001b[49m\u001b[43m[\u001b[49m\u001b[38;5;241;43m0\u001b[39;49m\u001b[43m]\u001b[49m\n",
      "\u001b[1;31mTypeError\u001b[0m: 'set' object is not subscriptable"
     ]
    }
   ],
   "source": [
    "s7[0]"
   ]
  },
  {
   "cell_type": "code",
   "execution_count": 153,
   "id": "0b9a8908",
   "metadata": {},
   "outputs": [],
   "source": [
    "s7.add(32)"
   ]
  },
  {
   "cell_type": "code",
   "execution_count": 157,
   "id": "84ff674b",
   "metadata": {},
   "outputs": [
    {
     "data": {
      "text/plain": [
       "{1, 11, 21, 223, 3, 31, 32, 4, 45, 5, 56, 6, 7, 8, 'Harshit'}"
      ]
     },
     "execution_count": 157,
     "metadata": {},
     "output_type": "execute_result"
    }
   ],
   "source": [
    "s7"
   ]
  },
  {
   "cell_type": "code",
   "execution_count": 159,
   "id": "11500302",
   "metadata": {},
   "outputs": [],
   "source": [
    "s7.remove(1)"
   ]
  },
  {
   "cell_type": "code",
   "execution_count": 160,
   "id": "b8e5f5d5",
   "metadata": {},
   "outputs": [
    {
     "data": {
      "text/plain": [
       "{11, 21, 223, 3, 31, 32, 4, 45, 5, 56, 6, 7, 8, 'Harshit'}"
      ]
     },
     "execution_count": 160,
     "metadata": {},
     "output_type": "execute_result"
    }
   ],
   "source": [
    "s7"
   ]
  },
  {
   "cell_type": "code",
   "execution_count": null,
   "id": "2a9a95dc",
   "metadata": {},
   "outputs": [],
   "source": []
  }
 ],
 "metadata": {
  "kernelspec": {
   "display_name": "Python 3 (ipykernel)",
   "language": "python",
   "name": "python3"
  },
  "language_info": {
   "codemirror_mode": {
    "name": "ipython",
    "version": 3
   },
   "file_extension": ".py",
   "mimetype": "text/x-python",
   "name": "python",
   "nbconvert_exporter": "python",
   "pygments_lexer": "ipython3",
   "version": "3.9.12"
  }
 },
 "nbformat": 4,
 "nbformat_minor": 5
}
